{
 "cells": [
  {
   "cell_type": "code",
   "execution_count": 1,
   "id": "2b8fb88a",
   "metadata": {},
   "outputs": [],
   "source": [
    "import pandas as pd\n",
    "import numpy as np\n",
    "import matplotlib.pyplot as plt\n",
    "import torch\n",
    "import torch.nn as nn\n",
    "import json\n",
    "import re\n",
    "import os\n",
    "import sys\n",
    "from sklearn.metrics import f1_score, precision_score, recall_score\n",
    "from nltk.translate.bleu_score import sentence_bleu\n",
    "\n",
    "from transformers import AutoTokenizer, AutoModelForTokenClassification\n",
    "from transformers import pipeline"
   ]
  },
  {
   "cell_type": "code",
   "execution_count": 2,
   "id": "683e11f6",
   "metadata": {},
   "outputs": [],
   "source": [
    "sys.path.append('/data/dangnguyen/report_generation/report-generation/')\n",
    "from CXRMetric.CheXbert.src.label import label"
   ]
  },
  {
   "cell_type": "code",
   "execution_count": 3,
   "id": "de6a612c",
   "metadata": {},
   "outputs": [],
   "source": [
    "CHEXBERT_PATH = '/data/dangnguyen/report_generation/models/chexbert.pth'\n",
    "\n",
    "cxr_labels = [\n",
    "        'Atelectasis', 'Cardiomegaly', 'Consolidation', 'Edema',\n",
    "        'Enlarged Cardiomediastinum', 'Fracture', 'Lung Lesion', 'Lung Opacity',\n",
    "        'No Finding', 'Pleural Effusion', 'Pleural Other', 'Pneumonia',\n",
    "        'Pneumothorax', 'Support Devices']\n",
    "\n",
    "cxr_labels_2 = ['Enlarged Cardiomediastinum', 'Cardiomegaly', 'Lung Opacity',\\\n",
    "'Lung Lesion', 'Edema', 'Consolidation', 'Pneumonia', 'Atelectasis',\\\n",
    "'Pneumothorax', 'Pleural Effusion', 'Pleural Other', 'Fracture', 'Support Devices', 'No Finding']\n",
    "\n",
    "# converts a label vector to English\n",
    "def labels_to_eng(labels):\n",
    "    diag = ''\n",
    "    for i in range(len(labels)):\n",
    "        label = labels[i]\n",
    "        cond = cxr_labels[i]\n",
    "        if label == 1:\n",
    "            diag += cond\n",
    "            diag += ', '\n",
    "    return diag\n",
    "\n",
    "# Computes the exact match accuracy of the generated reports\n",
    "def exact_match(gt, pred):\n",
    "    matches = []\n",
    "    for (gt_rp, pred_rp) in zip(gt, pred):\n",
    "        gt_words = re.sub(r\"[^\\w\\s]\", \"\", gt_rp).lower().split() # removes special characters\n",
    "        pred_words = re.sub(r\"[^\\w\\s]\", \"\", pred_rp).lower().split()\n",
    "\n",
    "        match = True\n",
    "        if len(gt_words) == len(pred_words):\n",
    "            for (gt_word, pred_word) in zip(gt_words, pred_words):\n",
    "                if gt_word != pred_word:\n",
    "                    match = False\n",
    "        else:\n",
    "            match = False\n",
    "        matches.append(match)\n",
    "        \n",
    "    matches = np.array(matches)\n",
    "    em_acc = np.sum(matches) / len(matches)\n",
    "    return em_acc, matches\n",
    "\n",
    "# Computes the positive and negative F1\n",
    "def compute_f1(df_gt, df_pred):\n",
    "    # need to make sure df_gt and df_pred has a column called \"report\"\n",
    "    gt_pre_chexb = './gt_pre-chexbert.csv'\n",
    "    df_gt.to_csv(gt_pre_chexb, index=False)\n",
    "\n",
    "    y_gt = label(CHEXBERT_PATH, gt_pre_chexb)\n",
    "    y_gt = np.array(y_gt).T\n",
    "    y_gt = y_gt[:, :-1] # excluding No Finding\n",
    "\n",
    "    # Note on labels:\n",
    "    # 0: unmentioned ; 1: positive ; 2: negative ; 3: uncertain\n",
    "    \n",
    "    y_gt_neg = y_gt.copy()\n",
    "    y_gt_neg[(y_gt_neg == 1) | (y_gt_neg == 3)] = 0\n",
    "    y_gt_neg[y_gt_neg == 2] = 1\n",
    "    \n",
    "    y_gt[(y_gt == 2) | (y_gt == 3)] = 0\n",
    "\n",
    "    pred_pre_chexb = './pred_pre-chexbert.csv'\n",
    "    df_pred.to_csv(pred_pre_chexb, index=False)\n",
    "\n",
    "    # the labels are according to the 2nd ordering (see run_eval.py)\n",
    "    y_pred = label(CHEXBERT_PATH, pred_pre_chexb)\n",
    "    y_pred = np.array(y_pred).T\n",
    "    y_pred = y_pred[:, :-1]\n",
    "\n",
    "    y_pred_neg = y_pred.copy()\n",
    "    y_pred_neg[(y_pred_neg == 1) | (y_pred_neg == 3)] = 0\n",
    "    y_pred_neg[y_pred_neg == 2] = 1\n",
    "    \n",
    "    y_pred[(y_pred == 2) | (y_pred == 3)] = 0\n",
    "    \n",
    "    assert y_gt.shape == y_pred.shape\n",
    "\n",
    "    os.system('rm {}'.format(gt_pre_chexb))\n",
    "    os.system('rm {}'.format(pred_pre_chexb))\n",
    "\n",
    "    pos_f1 = f1_score(y_gt, y_pred, average='macro', zero_division=1)\n",
    "    neg_f1 = f1_score(y_gt_neg, y_pred_neg, average='macro', zero_division=1)\n",
    "    prag_f1 = np.mean([pos_f1, neg_f1])\n",
    "    \n",
    "    # also returning the labels matrices for debugging\n",
    "    return pos_f1, neg_f1, prag_f1, y_gt_neg, y_gt, y_pred_neg, y_pred\n",
    "\n",
    "# Borrowing this function from /CXRMetric/run_eval.py\n",
    "def prep_reports(reports):\n",
    "    \"\"\"Preprocesses reports\"\"\"\n",
    "    return [list(filter(lambda val: val !=  \"\", str(elem).lower().replace(\".\", \" .\").split(\" \"))) for elem in reports]\n",
    "\n",
    "# Computes BLEU-2\n",
    "def bleu_2(df_gt, df_pred):\n",
    "    scores = []\n",
    "    for i, row in df_gt.iterrows():\n",
    "        gt_report = prep_reports([row['report']])[0]\n",
    "        predicted_report = prep_reports([df_pred.loc[i]['report']])[0]\n",
    "        \n",
    "        score = sentence_bleu([gt_report], predicted_report, weights=(1/2, 1/2)) # to use BLEU-2\n",
    "        scores.append(score) \n",
    "    return np.mean(scores)"
   ]
  },
  {
   "cell_type": "code",
   "execution_count": null,
   "id": "1185cfe1",
   "metadata": {},
   "outputs": [],
   "source": []
  },
  {
   "cell_type": "code",
   "execution_count": null,
   "id": "e8412d30",
   "metadata": {},
   "outputs": [],
   "source": []
  },
  {
   "cell_type": "code",
   "execution_count": null,
   "id": "654dea8e",
   "metadata": {},
   "outputs": [],
   "source": []
  },
  {
   "cell_type": "code",
   "execution_count": 5,
   "id": "d42f4dac",
   "metadata": {},
   "outputs": [
    {
     "data": {
      "text/html": [
       "<div>\n",
       "<style scoped>\n",
       "    .dataframe tbody tr th:only-of-type {\n",
       "        vertical-align: middle;\n",
       "    }\n",
       "\n",
       "    .dataframe tbody tr th {\n",
       "        vertical-align: top;\n",
       "    }\n",
       "\n",
       "    .dataframe thead th {\n",
       "        text-align: right;\n",
       "    }\n",
       "</style>\n",
       "<table border=\"1\" class=\"dataframe\">\n",
       "  <thead>\n",
       "    <tr style=\"text-align: right;\">\n",
       "      <th></th>\n",
       "      <th>study_id</th>\n",
       "      <th>impression</th>\n",
       "      <th>indication</th>\n",
       "    </tr>\n",
       "  </thead>\n",
       "  <tbody>\n",
       "    <tr>\n",
       "      <th>0</th>\n",
       "      <td>52139270</td>\n",
       "      <td>Bilateral pleural effusions, cardiomegaly and ...</td>\n",
       "      <td>_..</td>\n",
       "    </tr>\n",
       "    <tr>\n",
       "      <th>1</th>\n",
       "      <td>52139270</td>\n",
       "      <td>Bilateral pleural effusions, cardiomegaly and ...</td>\n",
       "      <td>_..</td>\n",
       "    </tr>\n",
       "    <tr>\n",
       "      <th>2</th>\n",
       "      <td>52309364</td>\n",
       "      <td>Mild to large bilateral, right greater than le...</td>\n",
       "      <td>F with oxygen requirement // evaluate for pulm...</td>\n",
       "    </tr>\n",
       "    <tr>\n",
       "      <th>3</th>\n",
       "      <td>53282957</td>\n",
       "      <td>Moderate pulmonary edema with moderate to larg...</td>\n",
       "      <td>History: ___F status post fall, bradycardic //...</td>\n",
       "    </tr>\n",
       "    <tr>\n",
       "      <th>4</th>\n",
       "      <td>53836463</td>\n",
       "      <td>CHF, slightly worse than on the prior study.</td>\n",
       "      <td>_..</td>\n",
       "    </tr>\n",
       "    <tr>\n",
       "      <th>...</th>\n",
       "      <td>...</td>\n",
       "      <td>...</td>\n",
       "      <td>...</td>\n",
       "    </tr>\n",
       "    <tr>\n",
       "      <th>1832</th>\n",
       "      <td>52815959</td>\n",
       "      <td>Mild interstitial edema.  Left basilar opacity...</td>\n",
       "      <td>___-year-old male with confusion. Evaluate for...</td>\n",
       "    </tr>\n",
       "    <tr>\n",
       "      <th>1833</th>\n",
       "      <td>53502057</td>\n",
       "      <td>Emphysema with mild congestion and edema.  Bib...</td>\n",
       "      <td>___-year-old man with chest pain and shortness...</td>\n",
       "    </tr>\n",
       "    <tr>\n",
       "      <th>1834</th>\n",
       "      <td>53502057</td>\n",
       "      <td>Emphysema with mild congestion and edema.  Bib...</td>\n",
       "      <td>___-year-old man with chest pain and shortness...</td>\n",
       "    </tr>\n",
       "    <tr>\n",
       "      <th>1835</th>\n",
       "      <td>58368837</td>\n",
       "      <td>No acute intrathoracic process.</td>\n",
       "      <td>Shoulder pain, evaluate for infiltrate..</td>\n",
       "    </tr>\n",
       "    <tr>\n",
       "      <th>1836</th>\n",
       "      <td>58368837</td>\n",
       "      <td>No acute intrathoracic process.</td>\n",
       "      <td>Shoulder pain, evaluate for infiltrate..</td>\n",
       "    </tr>\n",
       "  </tbody>\n",
       "</table>\n",
       "<p>1837 rows × 3 columns</p>\n",
       "</div>"
      ],
      "text/plain": [
       "      study_id                                         impression  \\\n",
       "0     52139270  Bilateral pleural effusions, cardiomegaly and ...   \n",
       "1     52139270  Bilateral pleural effusions, cardiomegaly and ...   \n",
       "2     52309364  Mild to large bilateral, right greater than le...   \n",
       "3     53282957  Moderate pulmonary edema with moderate to larg...   \n",
       "4     53836463       CHF, slightly worse than on the prior study.   \n",
       "...        ...                                                ...   \n",
       "1832  52815959  Mild interstitial edema.  Left basilar opacity...   \n",
       "1833  53502057  Emphysema with mild congestion and edema.  Bib...   \n",
       "1834  53502057  Emphysema with mild congestion and edema.  Bib...   \n",
       "1835  58368837                    No acute intrathoracic process.   \n",
       "1836  58368837                    No acute intrathoracic process.   \n",
       "\n",
       "                                             indication  \n",
       "0                                                   _..  \n",
       "1                                                   _..  \n",
       "2     F with oxygen requirement // evaluate for pulm...  \n",
       "3     History: ___F status post fall, bradycardic //...  \n",
       "4                                                   _..  \n",
       "...                                                 ...  \n",
       "1832  ___-year-old male with confusion. Evaluate for...  \n",
       "1833  ___-year-old man with chest pain and shortness...  \n",
       "1834  ___-year-old man with chest pain and shortness...  \n",
       "1835           Shoulder pain, evaluate for infiltrate..  \n",
       "1836           Shoulder pain, evaluate for infiltrate..  \n",
       "\n",
       "[1837 rows x 3 columns]"
      ]
     },
     "execution_count": 5,
     "metadata": {},
     "output_type": "execute_result"
    }
   ],
   "source": [
    "# Formatting finetuning data into instructions\n",
    "# clean data\n",
    "df_ind = pd.read_csv('/data/dangnguyen/report_generation/mimic_data/val_indications_clean.csv')[['study_id','report']].drop_duplicates()\n",
    "df_ind = df_ind.rename(columns={'report': 'indication'}).fillna('')\n",
    "\n",
    "df_imp_chexb = pd.read_csv('/data/dangnguyen/report_generation/mimic_data/val_ind_imp.csv')[['study_id','report']].drop_duplicates()\n",
    "df_imp_chexb = df_imp_chexb.rename(columns={'report': 'impression'})\n",
    "\n",
    "df_ind_imp = df_imp_chexb.merge(df_ind, on='study_id')\n",
    "df_ind_imp"
   ]
  },
  {
   "cell_type": "code",
   "execution_count": 15,
   "id": "ef5de07a",
   "metadata": {},
   "outputs": [
    {
     "data": {
      "text/html": [
       "<div>\n",
       "<style scoped>\n",
       "    .dataframe tbody tr th:only-of-type {\n",
       "        vertical-align: middle;\n",
       "    }\n",
       "\n",
       "    .dataframe tbody tr th {\n",
       "        vertical-align: top;\n",
       "    }\n",
       "\n",
       "    .dataframe thead th {\n",
       "        text-align: right;\n",
       "    }\n",
       "</style>\n",
       "<table border=\"1\" class=\"dataframe\">\n",
       "  <thead>\n",
       "    <tr style=\"text-align: right;\">\n",
       "      <th></th>\n",
       "      <th>study_id</th>\n",
       "      <th>impression</th>\n",
       "      <th>Enlarged Cardiomediastinum</th>\n",
       "      <th>Cardiomegaly</th>\n",
       "      <th>Lung Opacity</th>\n",
       "      <th>Lung Lesion</th>\n",
       "      <th>Edema</th>\n",
       "      <th>Consolidation</th>\n",
       "      <th>Pneumonia</th>\n",
       "      <th>Atelectasis</th>\n",
       "      <th>Pneumothorax</th>\n",
       "      <th>Pleural Effusion</th>\n",
       "      <th>Pleural Other</th>\n",
       "      <th>Fracture</th>\n",
       "      <th>Support Devices</th>\n",
       "      <th>No Finding</th>\n",
       "      <th>indication</th>\n",
       "    </tr>\n",
       "  </thead>\n",
       "  <tbody>\n",
       "    <tr>\n",
       "      <th>7592</th>\n",
       "      <td>54817529</td>\n",
       "      <td>Mild pulmonary vascular congestion without ove...</td>\n",
       "      <td>0.0</td>\n",
       "      <td>1.0</td>\n",
       "      <td>0.0</td>\n",
       "      <td>0.0</td>\n",
       "      <td>0.0</td>\n",
       "      <td>0.0</td>\n",
       "      <td>0.0</td>\n",
       "      <td>0.0</td>\n",
       "      <td>0.0</td>\n",
       "      <td>0.0</td>\n",
       "      <td>0.0</td>\n",
       "      <td>0.0</td>\n",
       "      <td>0.0</td>\n",
       "      <td>0.0</td>\n",
       "      <td>___ year old woman with crackles bilaterally, ...</td>\n",
       "    </tr>\n",
       "    <tr>\n",
       "      <th>12051</th>\n",
       "      <td>51209748</td>\n",
       "      <td>There is a left subclavian pacer with single l...</td>\n",
       "      <td>0.0</td>\n",
       "      <td>1.0</td>\n",
       "      <td>0.0</td>\n",
       "      <td>0.0</td>\n",
       "      <td>0.0</td>\n",
       "      <td>0.0</td>\n",
       "      <td>0.0</td>\n",
       "      <td>0.0</td>\n",
       "      <td>0.0</td>\n",
       "      <td>0.0</td>\n",
       "      <td>0.0</td>\n",
       "      <td>0.0</td>\n",
       "      <td>1.0</td>\n",
       "      <td>0.0</td>\n",
       "      <td>___ year old man with AF, tachy-brady syndrome...</td>\n",
       "    </tr>\n",
       "    <tr>\n",
       "      <th>17353</th>\n",
       "      <td>55605922</td>\n",
       "      <td>No acute cardiopulmonary abnormality.</td>\n",
       "      <td>0.0</td>\n",
       "      <td>0.0</td>\n",
       "      <td>0.0</td>\n",
       "      <td>0.0</td>\n",
       "      <td>0.0</td>\n",
       "      <td>0.0</td>\n",
       "      <td>0.0</td>\n",
       "      <td>0.0</td>\n",
       "      <td>0.0</td>\n",
       "      <td>0.0</td>\n",
       "      <td>0.0</td>\n",
       "      <td>0.0</td>\n",
       "      <td>0.0</td>\n",
       "      <td>1.0</td>\n",
       "      <td>History: ___M with neutrapenic fever  // ?PNA</td>\n",
       "    </tr>\n",
       "    <tr>\n",
       "      <th>17873</th>\n",
       "      <td>58709083</td>\n",
       "      <td>No acute disease.</td>\n",
       "      <td>0.0</td>\n",
       "      <td>0.0</td>\n",
       "      <td>0.0</td>\n",
       "      <td>0.0</td>\n",
       "      <td>0.0</td>\n",
       "      <td>0.0</td>\n",
       "      <td>0.0</td>\n",
       "      <td>0.0</td>\n",
       "      <td>0.0</td>\n",
       "      <td>0.0</td>\n",
       "      <td>0.0</td>\n",
       "      <td>0.0</td>\n",
       "      <td>0.0</td>\n",
       "      <td>1.0</td>\n",
       "      <td>Pregnancy with chest pain and dyspnea.</td>\n",
       "    </tr>\n",
       "    <tr>\n",
       "      <th>18496</th>\n",
       "      <td>58027429</td>\n",
       "      <td>Interstitial lung disease with small pleural e...</td>\n",
       "      <td>0.0</td>\n",
       "      <td>0.0</td>\n",
       "      <td>1.0</td>\n",
       "      <td>0.0</td>\n",
       "      <td>0.0</td>\n",
       "      <td>0.0</td>\n",
       "      <td>0.0</td>\n",
       "      <td>0.0</td>\n",
       "      <td>0.0</td>\n",
       "      <td>1.0</td>\n",
       "      <td>0.0</td>\n",
       "      <td>0.0</td>\n",
       "      <td>0.0</td>\n",
       "      <td>0.0</td>\n",
       "      <td>___-year-old female with lethargy.  Evaluate f...</td>\n",
       "    </tr>\n",
       "    <tr>\n",
       "      <th>...</th>\n",
       "      <td>...</td>\n",
       "      <td>...</td>\n",
       "      <td>...</td>\n",
       "      <td>...</td>\n",
       "      <td>...</td>\n",
       "      <td>...</td>\n",
       "      <td>...</td>\n",
       "      <td>...</td>\n",
       "      <td>...</td>\n",
       "      <td>...</td>\n",
       "      <td>...</td>\n",
       "      <td>...</td>\n",
       "      <td>...</td>\n",
       "      <td>...</td>\n",
       "      <td>...</td>\n",
       "      <td>...</td>\n",
       "      <td>...</td>\n",
       "    </tr>\n",
       "    <tr>\n",
       "      <th>11284</th>\n",
       "      <td>55829081</td>\n",
       "      <td>Endotracheal tube has its tip 2.6 cm above the...</td>\n",
       "      <td>0.0</td>\n",
       "      <td>0.0</td>\n",
       "      <td>0.0</td>\n",
       "      <td>0.0</td>\n",
       "      <td>0.0</td>\n",
       "      <td>0.0</td>\n",
       "      <td>0.0</td>\n",
       "      <td>0.0</td>\n",
       "      <td>0.0</td>\n",
       "      <td>0.0</td>\n",
       "      <td>0.0</td>\n",
       "      <td>0.0</td>\n",
       "      <td>1.0</td>\n",
       "      <td>0.0</td>\n",
       "      <td>_</td>\n",
       "    </tr>\n",
       "    <tr>\n",
       "      <th>11964</th>\n",
       "      <td>57836239</td>\n",
       "      <td>Slight increase in size of small left pleural ...</td>\n",
       "      <td>0.0</td>\n",
       "      <td>0.0</td>\n",
       "      <td>1.0</td>\n",
       "      <td>0.0</td>\n",
       "      <td>0.0</td>\n",
       "      <td>0.0</td>\n",
       "      <td>0.0</td>\n",
       "      <td>0.0</td>\n",
       "      <td>0.0</td>\n",
       "      <td>1.0</td>\n",
       "      <td>0.0</td>\n",
       "      <td>0.0</td>\n",
       "      <td>0.0</td>\n",
       "      <td>0.0</td>\n",
       "      <td>_</td>\n",
       "    </tr>\n",
       "    <tr>\n",
       "      <th>5390</th>\n",
       "      <td>58757139</td>\n",
       "      <td>No acute findings. Mild cardiomegaly.</td>\n",
       "      <td>0.0</td>\n",
       "      <td>1.0</td>\n",
       "      <td>0.0</td>\n",
       "      <td>0.0</td>\n",
       "      <td>0.0</td>\n",
       "      <td>0.0</td>\n",
       "      <td>0.0</td>\n",
       "      <td>0.0</td>\n",
       "      <td>0.0</td>\n",
       "      <td>0.0</td>\n",
       "      <td>0.0</td>\n",
       "      <td>0.0</td>\n",
       "      <td>0.0</td>\n",
       "      <td>0.0</td>\n",
       "      <td>_</td>\n",
       "    </tr>\n",
       "    <tr>\n",
       "      <th>860</th>\n",
       "      <td>52981560</td>\n",
       "      <td>Mild pulmonary edema has resolved. No evidenc...</td>\n",
       "      <td>1.0</td>\n",
       "      <td>1.0</td>\n",
       "      <td>0.0</td>\n",
       "      <td>0.0</td>\n",
       "      <td>0.0</td>\n",
       "      <td>0.0</td>\n",
       "      <td>0.0</td>\n",
       "      <td>0.0</td>\n",
       "      <td>0.0</td>\n",
       "      <td>0.0</td>\n",
       "      <td>0.0</td>\n",
       "      <td>0.0</td>\n",
       "      <td>0.0</td>\n",
       "      <td>0.0</td>\n",
       "      <td>___ year old man with obesity, OSA, ESRD on HD...</td>\n",
       "    </tr>\n",
       "    <tr>\n",
       "      <th>15795</th>\n",
       "      <td>51589086</td>\n",
       "      <td>Bilateral lower lung aeration. Small bilateral...</td>\n",
       "      <td>0.0</td>\n",
       "      <td>0.0</td>\n",
       "      <td>0.0</td>\n",
       "      <td>0.0</td>\n",
       "      <td>0.0</td>\n",
       "      <td>0.0</td>\n",
       "      <td>0.0</td>\n",
       "      <td>0.0</td>\n",
       "      <td>0.0</td>\n",
       "      <td>1.0</td>\n",
       "      <td>0.0</td>\n",
       "      <td>0.0</td>\n",
       "      <td>0.0</td>\n",
       "      <td>0.0</td>\n",
       "      <td>Evaluation of the patient with history of COPD...</td>\n",
       "    </tr>\n",
       "  </tbody>\n",
       "</table>\n",
       "<p>19000 rows × 17 columns</p>\n",
       "</div>"
      ],
      "text/plain": [
       "       study_id                                         impression  \\\n",
       "7592   54817529  Mild pulmonary vascular congestion without ove...   \n",
       "12051  51209748  There is a left subclavian pacer with single l...   \n",
       "17353  55605922             No acute cardiopulmonary abnormality.    \n",
       "17873  58709083                                 No acute disease.    \n",
       "18496  58027429  Interstitial lung disease with small pleural e...   \n",
       "...         ...                                                ...   \n",
       "11284  55829081  Endotracheal tube has its tip 2.6 cm above the...   \n",
       "11964  57836239  Slight increase in size of small left pleural ...   \n",
       "5390   58757139             No acute findings. Mild cardiomegaly.    \n",
       "860    52981560   Mild pulmonary edema has resolved. No evidenc...   \n",
       "15795  51589086  Bilateral lower lung aeration. Small bilateral...   \n",
       "\n",
       "       Enlarged Cardiomediastinum  Cardiomegaly  Lung Opacity  Lung Lesion  \\\n",
       "7592                          0.0           1.0           0.0          0.0   \n",
       "12051                         0.0           1.0           0.0          0.0   \n",
       "17353                         0.0           0.0           0.0          0.0   \n",
       "17873                         0.0           0.0           0.0          0.0   \n",
       "18496                         0.0           0.0           1.0          0.0   \n",
       "...                           ...           ...           ...          ...   \n",
       "11284                         0.0           0.0           0.0          0.0   \n",
       "11964                         0.0           0.0           1.0          0.0   \n",
       "5390                          0.0           1.0           0.0          0.0   \n",
       "860                           1.0           1.0           0.0          0.0   \n",
       "15795                         0.0           0.0           0.0          0.0   \n",
       "\n",
       "       Edema  Consolidation  Pneumonia  Atelectasis  Pneumothorax  \\\n",
       "7592     0.0            0.0        0.0          0.0           0.0   \n",
       "12051    0.0            0.0        0.0          0.0           0.0   \n",
       "17353    0.0            0.0        0.0          0.0           0.0   \n",
       "17873    0.0            0.0        0.0          0.0           0.0   \n",
       "18496    0.0            0.0        0.0          0.0           0.0   \n",
       "...      ...            ...        ...          ...           ...   \n",
       "11284    0.0            0.0        0.0          0.0           0.0   \n",
       "11964    0.0            0.0        0.0          0.0           0.0   \n",
       "5390     0.0            0.0        0.0          0.0           0.0   \n",
       "860      0.0            0.0        0.0          0.0           0.0   \n",
       "15795    0.0            0.0        0.0          0.0           0.0   \n",
       "\n",
       "       Pleural Effusion  Pleural Other  Fracture  Support Devices  No Finding  \\\n",
       "7592                0.0            0.0       0.0              0.0         0.0   \n",
       "12051               0.0            0.0       0.0              1.0         0.0   \n",
       "17353               0.0            0.0       0.0              0.0         1.0   \n",
       "17873               0.0            0.0       0.0              0.0         1.0   \n",
       "18496               1.0            0.0       0.0              0.0         0.0   \n",
       "...                 ...            ...       ...              ...         ...   \n",
       "11284               0.0            0.0       0.0              1.0         0.0   \n",
       "11964               1.0            0.0       0.0              0.0         0.0   \n",
       "5390                0.0            0.0       0.0              0.0         0.0   \n",
       "860                 0.0            0.0       0.0              0.0         0.0   \n",
       "15795               1.0            0.0       0.0              0.0         0.0   \n",
       "\n",
       "                                              indication  \n",
       "7592   ___ year old woman with crackles bilaterally, ...  \n",
       "12051  ___ year old man with AF, tachy-brady syndrome...  \n",
       "17353      History: ___M with neutrapenic fever  // ?PNA  \n",
       "17873             Pregnancy with chest pain and dyspnea.  \n",
       "18496  ___-year-old female with lethargy.  Evaluate f...  \n",
       "...                                                  ...  \n",
       "11284                                                  _  \n",
       "11964                                                  _  \n",
       "5390                                                   _  \n",
       "860    ___ year old man with obesity, OSA, ESRD on HD...  \n",
       "15795  Evaluation of the patient with history of COPD...  \n",
       "\n",
       "[19000 rows x 17 columns]"
      ]
     },
     "execution_count": 15,
     "metadata": {},
     "output_type": "execute_result"
    }
   ],
   "source": [
    "# NUM_SAMPLES = 12800\n",
    "sample_pc = 1\n",
    "df_ind_imp_sample = df_ind_imp.sample(frac=sample_pc, random_state=42)\n",
    "df_ind_imp_sample"
   ]
  },
  {
   "cell_type": "code",
   "execution_count": null,
   "id": "43396f1f",
   "metadata": {},
   "outputs": [],
   "source": [
    "df_ind_imp_sample.to_csv('/data/dangnguyen/report_generation/mimic_data/finetune_llm/finetune_imp_clean_80pc.csv', index=False)"
   ]
  },
  {
   "cell_type": "code",
   "execution_count": null,
   "id": "1701f2c9",
   "metadata": {},
   "outputs": [],
   "source": [
    "# validation set\n",
    "df_ind_imp_sample = pd.read_csv('/data/dangnguyen/report_generation/mimic_data/val_ind_imp.csv').fillna('')\n",
    "val_viz = pd.read_csv('/data/dangnguyen/report_generation/mimic_data/finetune_llm/val_pred_viz.csv')\n",
    "\n",
    "df_ind_imp_sample = pd.concat([df_ind_imp_sample, val_viz[cxr_labels]], axis=1)\n",
    "df_ind_imp_sample = df_ind_imp_sample.rename(columns={'report':'impression'})\n",
    "df_ind_imp_sample"
   ]
  },
  {
   "cell_type": "code",
   "execution_count": null,
   "id": "929689ae",
   "metadata": {},
   "outputs": [],
   "source": [
    "# original data\n",
    "imp_chexb = pd.read_csv('/data/dangnguyen/report_generation/mimic_data/train_gt_imp_chexbert.csv').drop_duplicates()\n",
    "imp_chexb = imp_chexb.rename(columns={'Report Impression':'impression'})\n",
    "imp_chexb"
   ]
  },
  {
   "cell_type": "code",
   "execution_count": null,
   "id": "24824c17",
   "metadata": {},
   "outputs": [],
   "source": [
    "ft_imp = pd.read_csv('/data/dangnguyen/report_generation/mimic_data/finetune_llm/finetune_gt_imp_clean.csv')\n",
    "ft_imp"
   ]
  },
  {
   "cell_type": "code",
   "execution_count": null,
   "id": "e42db1e1",
   "metadata": {},
   "outputs": [],
   "source": [
    "df_ind = pd.read_csv('/data/dangnguyen/report_generation/mimic_data/train_indications.csv')[['study_id','report']].drop_duplicates()\n",
    "df_ind = df_ind.rename(columns={'report':'indication'})\n",
    "df_ind"
   ]
  },
  {
   "cell_type": "code",
   "execution_count": null,
   "id": "cedef4cd",
   "metadata": {},
   "outputs": [],
   "source": [
    "df_imp = pd.read_csv('/data/dangnguyen/report_generation/mimic_data/train_gt_imp.csv')[['study_id','report']].drop_duplicates()\n",
    "df_imp = df_imp.rename(columns={'report':'impression'})\n",
    "df_imp"
   ]
  },
  {
   "cell_type": "code",
   "execution_count": null,
   "id": "7c7d2efe",
   "metadata": {},
   "outputs": [],
   "source": [
    "assert list(df_ind['study_id']) == list(df_imp['study_id'])"
   ]
  },
  {
   "cell_type": "code",
   "execution_count": null,
   "id": "00da241b",
   "metadata": {},
   "outputs": [],
   "source": [
    "df_rp = pd.concat([df_ind, df_imp['impression']], axis=1)\n",
    "df_rp = df_rp.loc[~df_rp['impression'].isna()].fillna('')\n",
    "df_rp"
   ]
  },
  {
   "cell_type": "code",
   "execution_count": null,
   "id": "d7966c57",
   "metadata": {},
   "outputs": [],
   "source": [
    "df_rp_n_percent = df_rp.loc[df_rp['study_id'].isin(ft_imp['study_id'])] # 10 percent\n",
    "df_rp_n_percent"
   ]
  },
  {
   "cell_type": "code",
   "execution_count": null,
   "id": "47dc61c3",
   "metadata": {},
   "outputs": [],
   "source": [
    "# other percents\n",
    "sample_percent = 0.8\n",
    "df_rp_n_percent = df_rp.sample(frac=sample_percent)\n",
    "df_rp_n_percent"
   ]
  },
  {
   "cell_type": "code",
   "execution_count": null,
   "id": "9c517799",
   "metadata": {},
   "outputs": [],
   "source": [
    "df_rp_chexb = df_rp_n_percent.merge(imp_chexb).replace([np.nan, -1], 0)\n",
    "df_rp_chexb"
   ]
  },
  {
   "cell_type": "code",
   "execution_count": null,
   "id": "c9cc96be",
   "metadata": {},
   "outputs": [],
   "source": [
    "df_ind_imp_sample = df_rp_chexb"
   ]
  },
  {
   "cell_type": "code",
   "execution_count": 39,
   "id": "faa46ec9",
   "metadata": {},
   "outputs": [],
   "source": [
    "finetune_data = []\n",
    "# instruction = 'Write a radiology report responding to the indication. Include all given positive labels.'\n",
    "# instruction = 'Write a radiology report that includes all given positive labels.'\n",
    "instruction = 'Write a radiology report responding to the indication and positive labels. \\\n",
    "Make medical recommendations as necessary.'\n",
    "\n",
    "for _, row in df_ind_imp_sample.iterrows():\n",
    "    ind = row['indication']\n",
    "    imp = row['impression']\n",
    "    labels = labels_to_eng(row[cxr_labels])[:-2]\n",
    "    \n",
    "    inp = 'Indication: {}.\\nPositive labels: {}'.format(ind, labels)\n",
    "#     inp = 'Positive labels: {}'.format(labels) # to test the effect of the indication\n",
    "    \n",
    "    sample = {\n",
    "        'instruction': instruction,\n",
    "        'input': inp,\n",
    "        'output': imp\n",
    "    }\n",
    "    finetune_data.append(sample)"
   ]
  },
  {
   "cell_type": "code",
   "execution_count": 40,
   "id": "efea8b1b",
   "metadata": {},
   "outputs": [
    {
     "data": {
      "text/plain": [
       "19000"
      ]
     },
     "execution_count": 40,
     "metadata": {},
     "output_type": "execute_result"
    }
   ],
   "source": [
    "len(finetune_data)"
   ]
  },
  {
   "cell_type": "code",
   "execution_count": 41,
   "id": "587af1ce",
   "metadata": {},
   "outputs": [
    {
     "data": {
      "text/plain": [
       "{'instruction': 'Write a radiology report responding to the indication and positive labels. Make medical recommendations as necessary.',\n",
       " 'input': 'Indication: ___M with hx of epilepsy presenting s/p seizure. R/o infection  // Pneumonia?.\\nPositive labels: No Finding',\n",
       " 'output': 'No acute cardiopulmonary process. '}"
      ]
     },
     "execution_count": 41,
     "metadata": {},
     "output_type": "execute_result"
    }
   ],
   "source": [
    "np.random.choice(finetune_data)"
   ]
  },
  {
   "cell_type": "code",
   "execution_count": 42,
   "id": "a9c29d0b",
   "metadata": {},
   "outputs": [],
   "source": [
    "outpath = '/data/dangnguyen/report_generation/mimic_data/finetune_llm/finetune_imp_rec_10pc.json'\n",
    "\n",
    "with open(outpath, 'w') as json_file:\n",
    "    json.dump(finetune_data, json_file)"
   ]
  },
  {
   "cell_type": "code",
   "execution_count": null,
   "id": "2db22cad",
   "metadata": {},
   "outputs": [],
   "source": []
  },
  {
   "cell_type": "code",
   "execution_count": null,
   "id": "150fd000",
   "metadata": {},
   "outputs": [],
   "source": [
    "# Getting all unique sentences for cleaning\n",
    "imp_sen = pd.read_csv('/data/dangnguyen/report_generation/mimic_data/mimic_train_impressions_sentence.csv')\n",
    "imp_sen"
   ]
  },
  {
   "cell_type": "code",
   "execution_count": null,
   "id": "520f4a66",
   "metadata": {},
   "outputs": [],
   "source": [
    "imp_sen_uniq = imp_sen[['report']].drop_duplicates().reset_index(drop=True)\n",
    "imp_sen_uniq"
   ]
  },
  {
   "cell_type": "code",
   "execution_count": null,
   "id": "68afbbcb",
   "metadata": {},
   "outputs": [],
   "source": [
    "num_batches = 6\n",
    "batch_size = len(imp_sen_uniq) // num_batches\n",
    "for i in range(num_batches+1):\n",
    "    start = i * batch_size\n",
    "    end = (i + 1) * batch_size\n",
    "    partition = imp_sen_uniq[start:end]\n",
    "    partition.to_csv('/data/dangnguyen/report_generation/mimic_data/report_cleaning/clean_all/partition_{}.csv'.format(i+1), index=False)"
   ]
  },
  {
   "cell_type": "code",
   "execution_count": null,
   "id": "b46328b9",
   "metadata": {},
   "outputs": [],
   "source": []
  },
  {
   "cell_type": "code",
   "execution_count": null,
   "id": "41e56979",
   "metadata": {},
   "outputs": [],
   "source": []
  },
  {
   "cell_type": "code",
   "execution_count": null,
   "id": "505286be",
   "metadata": {},
   "outputs": [],
   "source": []
  },
  {
   "cell_type": "code",
   "execution_count": null,
   "id": "934ed190",
   "metadata": {},
   "outputs": [],
   "source": [
    "# Making a test set comprising of indication, GT report, and labels\n",
    "test_gt_imp = pd.read_csv('/data/dangnguyen/report_generation/mimic_data/test_gt_imp.csv')\n",
    "chexbert_labels = pd.read_csv('/data/dangnguyen/report_generation/mimic_data/test_gt_imp_chexbert.csv')[cxr_labels_2].fillna(0).replace(-1, 0)\n",
    "test_gt_imp_chexb = pd.concat([test_gt_imp, chexbert_labels], axis=1)\n",
    "test_gt_imp_chexb"
   ]
  },
  {
   "cell_type": "code",
   "execution_count": null,
   "id": "121a6dec",
   "metadata": {},
   "outputs": [],
   "source": [
    "test_gt_ind = pd.read_csv('/data/dangnguyen/report_generation/mimic_data/test_indications.csv')[['study_id','report']].drop_duplicates()\n",
    "test_gt_ind = test_gt_ind.rename(columns={'report':'indication'})\n",
    "test_gt_ind"
   ]
  },
  {
   "cell_type": "code",
   "execution_count": null,
   "id": "e08ed680",
   "metadata": {},
   "outputs": [],
   "source": [
    "test_ind_imp_chexb = test_gt_imp_chexb.merge(test_gt_ind, on='study_id').fillna('').reset_index(drop=True)\n",
    "test_ind_imp_chexb"
   ]
  },
  {
   "cell_type": "code",
   "execution_count": null,
   "id": "eac67877",
   "metadata": {},
   "outputs": [],
   "source": [
    "cols = ['study_id','indication','report'] + cxr_labels\n",
    "test_ind_imp_chexb[cols].to_csv('/data/dangnguyen/report_generation/mimic_data/test_ind_imp_chexb.csv', index=False)"
   ]
  },
  {
   "cell_type": "code",
   "execution_count": null,
   "id": "3a242d3b",
   "metadata": {},
   "outputs": [],
   "source": []
  },
  {
   "cell_type": "code",
   "execution_count": null,
   "id": "191dd963",
   "metadata": {},
   "outputs": [],
   "source": [
    "# For dumb parallelism: aggregating the outputs and filtering broken sentences\n",
    "NUM_PARTITIONS = 7\n",
    "og_rps = []\n",
    "cleaned_rps = []\n",
    "\n",
    "for i in range(NUM_PARTITIONS):\n",
    "    df_og = pd.read_csv('/data/dangnguyen/report_generation/mimic_data/report_cleaning/clean_all/partition_{}.csv'.format(i+1))\n",
    "    df = pd.read_csv('/data/dangnguyen/report_generation/mimic_data/report_cleaning/clean_all/partition_{}/rewrite7_intermediate.csv'.format(i+1))\n",
    "    og_rps.append(df_og)\n",
    "    cleaned_rps.append(df)\n",
    "    \n",
    "og_rp = pd.concat(og_rps, axis=0).fillna('').reset_index(drop=True)\n",
    "clean_rp = pd.concat(cleaned_rps, axis=0).fillna('').reset_index(drop=True)\n",
    "\n",
    "clean_rp = clean_rp.rename(columns={'report':'llm_rewritten'})\n",
    "clean_sens = pd.concat([og_rp, clean_rp], axis=1)\n",
    "clean_sens"
   ]
  },
  {
   "cell_type": "code",
   "execution_count": null,
   "id": "7b98fb24",
   "metadata": {},
   "outputs": [],
   "source": [
    "df_imp_sen = pd.read_csv('/data/dangnguyen/report_generation/mimic_data/mimic_train_impressions_sentence.csv')[['study_id','sentence_id','report']].drop_duplicates()\n",
    "df_imp_sen"
   ]
  },
  {
   "cell_type": "code",
   "execution_count": null,
   "id": "c4ab0be3",
   "metadata": {},
   "outputs": [],
   "source": [
    "df_imp_sen_clean = df_imp_sen.merge(clean_sens, how='left', on='report')\n",
    "df_imp_sen_clean"
   ]
  },
  {
   "cell_type": "code",
   "execution_count": null,
   "id": "b82ed140",
   "metadata": {},
   "outputs": [],
   "source": [
    "clean_rp = df_imp_sen_clean"
   ]
  },
  {
   "cell_type": "code",
   "execution_count": null,
   "id": "7f61fe97",
   "metadata": {},
   "outputs": [],
   "source": [
    "clean_rp.to_csv('/data/dangnguyen/report_generation/mimic_data/report_cleaning/clean_all/imp_sen_cleaned_all.csv', index=False)"
   ]
  },
  {
   "cell_type": "code",
   "execution_count": null,
   "id": "5d15a890",
   "metadata": {},
   "outputs": [],
   "source": [
    "clean_rp['llm_rewritten'] = clean_rp['llm_rewritten'].apply(lambda x: x.replace('_', ''))\n",
    "clean_rp['clean_length'] = clean_rp['llm_rewritten'].apply(lambda x: len(x.split()))\n",
    "clean_rp = clean_rp.replace(['REMOVED', ''], '_')\n",
    "clean_rp"
   ]
  },
  {
   "cell_type": "code",
   "execution_count": null,
   "id": "bad17410",
   "metadata": {},
   "outputs": [],
   "source": [
    "clean_rp[['llm_rewritten']].rename(columns={'llm_rewritten':'report'}).to_csv('./tmp/clean_all_pre_chexbert.csv', index=False)"
   ]
  },
  {
   "cell_type": "code",
   "execution_count": null,
   "id": "84caa1ee",
   "metadata": {},
   "outputs": [],
   "source": [
    "y_gt = label(CHEXBERT_PATH, './tmp/clean_all_pre_chexbert.csv')\n",
    "y_gt = np.array(y_gt).T\n",
    "y_gt[(y_gt == 2) | (y_gt == 3)] = 1"
   ]
  },
  {
   "cell_type": "code",
   "execution_count": null,
   "id": "8720fe59",
   "metadata": {},
   "outputs": [],
   "source": [
    "# filtering sentences with fewer than 2 words and no finding, i.e., meaningless sentences\n",
    "is_no_finding = ~y_gt[:, :-1].any(axis=1)\n",
    "clean_rp['no_finding'] = is_no_finding\n",
    "clean_rp_no_finding = clean_rp.loc[clean_rp['no_finding'] & (clean_rp['clean_length'] < 3)]\n",
    "clean_rp_clean = clean_rp.loc[(~clean_rp['no_finding']) | (clean_rp['clean_length'] >= 3)]\n",
    "clean_rp_clean"
   ]
  },
  {
   "cell_type": "code",
   "execution_count": null,
   "id": "22372ca8",
   "metadata": {},
   "outputs": [],
   "source": [
    "uniq_ids = clean_rp_clean['study_id'].unique()"
   ]
  },
  {
   "cell_type": "code",
   "execution_count": null,
   "id": "4ee636b0",
   "metadata": {},
   "outputs": [],
   "source": [
    "# combining sentences into reports and labeling them\n",
    "clean_reports = []\n",
    "for study_id in uniq_ids:\n",
    "    df_rp = clean_rp_clean.loc[clean_rp_clean['study_id'] == study_id]\n",
    "    report = ''\n",
    "    for sentence in df_rp['llm_rewritten'].to_list():\n",
    "        report += sentence\n",
    "        report += ' '\n",
    "    clean_reports.append(report)"
   ]
  },
  {
   "cell_type": "code",
   "execution_count": null,
   "id": "6ea44c79",
   "metadata": {},
   "outputs": [],
   "source": [
    "df_clean_rps = pd.DataFrame(uniq_ids, columns=['study_id'])\n",
    "df_clean_rps['report'] = clean_reports\n",
    "df_clean_rps"
   ]
  },
  {
   "cell_type": "code",
   "execution_count": null,
   "id": "93d2c45b",
   "metadata": {},
   "outputs": [],
   "source": [
    "df_clean_rps.to_csv('/data/dangnguyen/report_generation/mimic_data/finetune_llm/finetune_gt_imp_all.csv', index=False)"
   ]
  },
  {
   "cell_type": "code",
   "execution_count": null,
   "id": "464f70f1",
   "metadata": {},
   "outputs": [],
   "source": [
    "df_clean_rps = pd.read_csv('/data/dangnguyen/report_generation/mimic_data/finetune_llm/finetune_gt_imp_all.csv')\n",
    "df_clean_rps"
   ]
  },
  {
   "cell_type": "code",
   "execution_count": null,
   "id": "8c122e0c",
   "metadata": {},
   "outputs": [],
   "source": [
    "# removing reports without any finding\n",
    "y_gt = label(CHEXBERT_PATH, '/data/dangnguyen/report_generation/mimic_data/finetune_llm/finetune_gt_imp_all.csv')\n",
    "y_gt = np.array(y_gt).T\n",
    "y_gt[(y_gt == 2) | (y_gt == 3)] = 0\n",
    "all_zeros = ~y_gt.any(axis=1)"
   ]
  },
  {
   "cell_type": "code",
   "execution_count": null,
   "id": "52ab5275",
   "metadata": {},
   "outputs": [],
   "source": [
    "df_clean_rps = df_clean_rps.loc[~all_zeros].reset_index(drop=True)\n",
    "df_clean_rps"
   ]
  },
  {
   "cell_type": "code",
   "execution_count": null,
   "id": "b8800c43",
   "metadata": {},
   "outputs": [],
   "source": [
    "y_gt_clean = y_gt[~all_zeros]\n",
    "len(y_gt_clean)"
   ]
  },
  {
   "cell_type": "code",
   "execution_count": null,
   "id": "a459bcea",
   "metadata": {},
   "outputs": [],
   "source": [
    "df_clean_rps.to_csv('/data/dangnguyen/report_generation/mimic_data/finetune_llm/finetune_gt_imp_all.csv', index=False)"
   ]
  },
  {
   "cell_type": "code",
   "execution_count": null,
   "id": "aaf7b688",
   "metadata": {},
   "outputs": [],
   "source": [
    "df_clean_rps = pd.read_csv('/data/dangnguyen/report_generation/mimic_data/finetune_llm/finetune_gt_imp_all.csv')"
   ]
  },
  {
   "cell_type": "code",
   "execution_count": null,
   "id": "c8e4ae9c",
   "metadata": {},
   "outputs": [],
   "source": [
    "labels = pd.DataFrame(y_gt_clean, columns=[cxr_labels_2])\n",
    "df_clean_rps = pd.concat([df_clean_rps, labels], axis=1)\n",
    "df_clean_rps.columns = ['study_id', 'report'] + cxr_labels_2\n",
    "df_clean_rps"
   ]
  },
  {
   "cell_type": "code",
   "execution_count": null,
   "id": "f5d8414a",
   "metadata": {},
   "outputs": [],
   "source": [
    "imp_reports = pd.read_csv('/data/dangnguyen/report_generation/mimic_data/train_gt_imp.csv')\n",
    "imp_reports_clean = imp_reports.merge(df_clean_rps.rename(columns={'report':'llm_rewritten'}), on='study_id')\n",
    "imp_reports_clean"
   ]
  },
  {
   "cell_type": "code",
   "execution_count": null,
   "id": "65dde0b2",
   "metadata": {},
   "outputs": [],
   "source": [
    "cols = ['study_id', 'subject_id', 'report', 'llm_rewritten'] + cxr_labels_2\n",
    "imp_reports_clean[cols].to_csv('/data/dangnguyen/report_generation/mimic_data/finetune_llm/finetune_gt_imp_all_dup.csv', index=False)"
   ]
  },
  {
   "cell_type": "code",
   "execution_count": null,
   "id": "89dc32db",
   "metadata": {},
   "outputs": [],
   "source": [
    "# clean_rp = imp_reports_clean[['study_id','report','llm_rewritten']].drop_duplicates().reset_index(drop=True)\n",
    "clean_rp = clean_rp_clean.reset_index(drop=True)\n",
    "\n",
    "clean_rp"
   ]
  },
  {
   "cell_type": "code",
   "execution_count": null,
   "id": "8e1ca142",
   "metadata": {},
   "outputs": [],
   "source": [
    "df_gt = pd.read_csv('/data/dangnguyen/report_generation/mimic_data/report_cleaning/test_cleaning_gt_200.csv').fillna('')\n",
    "flan_t5 = pd.read_csv('/data/dangnguyen/report_generation/mimic_data/report_cleaning/deepspeed/all_rules/all_rules_intermediate.csv').fillna('')\n",
    "\n",
    "og = df_gt[['report']]\n",
    "gt = df_gt[['cleaned']].rename(columns={'cleaned':'report'})\n",
    "\n",
    "flan_t5 = flan_t5.replace('REMOVED', '')\n",
    "# flan_t5 = flan_t5[['llm_rewritten']].rename(columns={'llm_rewritten':'report'})\n",
    "flan_t5"
   ]
  },
  {
   "cell_type": "code",
   "execution_count": null,
   "id": "eae0905f",
   "metadata": {},
   "outputs": [],
   "source": [
    "flan_t5_all = pd.read_csv('/data/dangnguyen/report_generation/mimic_data/report_cleaning/val_flan_all_rules.csv')\n",
    "flan_t5_all = flan_t5_all[['llm_rewritten']].rename(columns={'llm_rewritten':'report'})\n",
    "flan_t5_all = flan_t5_all.replace('REMOVED', '')\n",
    "flan_t5_all"
   ]
  },
  {
   "cell_type": "code",
   "execution_count": null,
   "id": "48ae9eb6",
   "metadata": {},
   "outputs": [],
   "source": [
    "# cxr_pro = pd.read_csv('/data/dangnguyen/report_generation/mimic_data/report_cleaning/val_cxr_pro_clean.csv').fillna('')\n",
    "cxr_pro = pd.read_csv('/data/dangnguyen/report_generation/mimic_data/report_cleaning/test_cxr_pro_clean.csv').fillna('')\n",
    "cxr_pro"
   ]
  },
  {
   "cell_type": "code",
   "execution_count": null,
   "id": "39a36042",
   "metadata": {},
   "outputs": [],
   "source": [
    "# Cleaning reports uing GILBERT\n",
    "def get_pipe():\n",
    "    model_name = \"rajpurkarlab/gilbert\"\n",
    "    tokenizer = AutoTokenizer.from_pretrained(model_name)\n",
    "    model = AutoModelForTokenClassification.from_pretrained(model_name)\n",
    "    pipe = pipeline(task=\"token-classification\", model=model.to(\"cuda\"), tokenizer=tokenizer, aggregation_strategy=\"simple\")\n",
    "    return pipe\n",
    "\n",
    "def remove_priors(pipe, report):\n",
    "    ret = \"\"\n",
    "    for sentence in report.split(\".\"):\n",
    "        if sentence and not sentence.isspace():\n",
    "            p = pipe(sentence)\n",
    "            string = \"\"\n",
    "            for item in p:\n",
    "                if item['entity_group'] == 'KEEP':\n",
    "                    string += item['word'] + \" \"\n",
    "            ret += string.strip().replace(\"redemonstrate\", \"demonstrate\").capitalize() + \". \"\n",
    "    return ret.strip()"
   ]
  },
  {
   "cell_type": "code",
   "execution_count": null,
   "id": "98eb232e",
   "metadata": {},
   "outputs": [],
   "source": [
    "pipe = get_pipe()\n",
    "reports = list(cxr_pro['report'])\n",
    "\n",
    "clean_reports = []\n",
    "for rp in reports:\n",
    "    print(rp)\n",
    "    rp_cleaned = remove_priors(pipe, rp)\n",
    "    clean_reports.append(rp_cleaned)"
   ]
  },
  {
   "cell_type": "code",
   "execution_count": null,
   "id": "c0b9613c",
   "metadata": {},
   "outputs": [],
   "source": [
    "clean_rp['cxr_pro'] = clean_reports\n",
    "clean_rp"
   ]
  },
  {
   "cell_type": "code",
   "execution_count": null,
   "id": "febbed8c",
   "metadata": {},
   "outputs": [],
   "source": [
    "# clean_rp.to_csv('/data/dangnguyen/report_generation/mimic_data/report_cleaning/cleaning_baselines_200.csv', index=False)"
   ]
  },
  {
   "cell_type": "code",
   "execution_count": null,
   "id": "793cef32",
   "metadata": {},
   "outputs": [],
   "source": [
    "gt_clean = list(gt['report'])\n",
    "llm_clean = list(flan_t5['report'])\n",
    "# llm_all_clean = list(flan_t5_all['report'])\n",
    "# pro_clean = list(cxr_pro['report'])"
   ]
  },
  {
   "cell_type": "code",
   "execution_count": null,
   "id": "f6a9d88f",
   "metadata": {},
   "outputs": [],
   "source": [
    "llm_acc, llm_matches = exact_match(gt_clean, llm_clean)\n",
    "llm_acc"
   ]
  },
  {
   "cell_type": "code",
   "execution_count": null,
   "id": "ed28ce31",
   "metadata": {},
   "outputs": [],
   "source": [
    "llm_all_acc, all_matches = exact_match(gt_clean, llm_all_clean)\n",
    "llm_all_acc"
   ]
  },
  {
   "cell_type": "code",
   "execution_count": null,
   "id": "be43b3a9",
   "metadata": {},
   "outputs": [],
   "source": [
    "pro_acc, pro_matches = exact_match(gt_clean, pro_clean)\n",
    "pro_acc"
   ]
  },
  {
   "cell_type": "code",
   "execution_count": null,
   "id": "4eae60e7",
   "metadata": {},
   "outputs": [],
   "source": [
    "# computing F1 and BLEU\n",
    "og = og.replace('', '_')\n",
    "gt = gt.replace('', '_')\n",
    "flan_t5 = flan_t5.replace('', '_')\n",
    "# flan_t5_all = flan_t5_all.replace('', '_')\n",
    "# cxr_pro = cxr_pro.replace('', '_')"
   ]
  },
  {
   "cell_type": "code",
   "execution_count": null,
   "id": "a49acde1",
   "metadata": {},
   "outputs": [],
   "source": [
    "pos_f1, neg_f1, _, gt_neg, gt_np, pred_neg, pred_np = compute_f1(og['report'], flan_t5['report'])\n",
    "# pos_f1, neg_f1, _, gt_neg, gt_np, pred_neg, pred_np = compute_f1(og['report'], flan_t5_all['report'])\n",
    "# pos_f1, neg_f1, _, gt_neg, gt_np, pred_neg, pred_np = compute_f1(og['report'], cxr_pro['report'])\n",
    "print('{}\\n{}'.format(pos_f1, neg_f1))"
   ]
  },
  {
   "cell_type": "code",
   "execution_count": null,
   "id": "40a4791b",
   "metadata": {},
   "outputs": [],
   "source": [
    "bleu = bleu_2(gt, flan_t5)\n",
    "# bleu = bleu_2(gt, flan_t5_all)\n",
    "# bleu = bleu_2(gt, cxr_pro)\n",
    "bleu"
   ]
  },
  {
   "cell_type": "code",
   "execution_count": null,
   "id": "2b696d0e",
   "metadata": {},
   "outputs": [],
   "source": []
  },
  {
   "cell_type": "code",
   "execution_count": null,
   "id": "0d11ae9a",
   "metadata": {},
   "outputs": [],
   "source": [
    "# looking into failure cases\n",
    "pos_diff = np.logical_xor(gt_np, pred_np)\n",
    "pos_diff_agg = np.any(pos_diff, axis=1)\n",
    "\n",
    "llm_pos_diff = gt.loc[pos_diff_agg]\n",
    "llm_pos_diff"
   ]
  },
  {
   "cell_type": "code",
   "execution_count": null,
   "id": "1dd878ee",
   "metadata": {
    "scrolled": true
   },
   "outputs": [],
   "source": [
    "idx = 121\n",
    "print('GT: {}\\n\\nManual: {}\\n\\nLLM: {}'.format(llm_pos_diff.loc[idx].report, \n",
    "                                               llm_pos_diff.loc[idx].cleaned, \n",
    "                                               llm_pos_diff.loc[idx].llm_rewritten))"
   ]
  },
  {
   "cell_type": "code",
   "execution_count": null,
   "id": "51812462",
   "metadata": {},
   "outputs": [],
   "source": [
    "pd.DataFrame(gt[pos_diff_agg], columns=cxr_labels_2[:-1])"
   ]
  },
  {
   "cell_type": "code",
   "execution_count": null,
   "id": "339be78d",
   "metadata": {},
   "outputs": [],
   "source": [
    "pd.DataFrame(pred[pos_diff_agg], columns=cxr_labels_2[:-1])"
   ]
  },
  {
   "cell_type": "code",
   "execution_count": null,
   "id": "0eaa3e17",
   "metadata": {},
   "outputs": [],
   "source": [
    "neg_diff = np.logical_xor(gt_neg, pred_neg)\n",
    "neg_diff_agg = np.any(neg_diff, axis=1)\n",
    "\n",
    "llm_neg_diff = clean_rp.loc[neg_diff_agg]\n",
    "llm_neg_diff"
   ]
  },
  {
   "cell_type": "code",
   "execution_count": null,
   "id": "548be651",
   "metadata": {},
   "outputs": [],
   "source": [
    "idx = 73\n",
    "print('GT: {}\\n\\npred: {}'.format(llm_neg_diff.loc[idx].report, llm_neg_diff.loc[idx].cleaned))"
   ]
  },
  {
   "cell_type": "code",
   "execution_count": null,
   "id": "e16a91fa",
   "metadata": {},
   "outputs": [],
   "source": [
    "pd.DataFrame(gt_neg[neg_diff_agg], columns=cxr_labels_2[:-1])"
   ]
  },
  {
   "cell_type": "code",
   "execution_count": null,
   "id": "971dd017",
   "metadata": {},
   "outputs": [],
   "source": [
    "pd.DataFrame(pred_neg[neg_diff_agg], columns=cxr_labels_2[:-1])"
   ]
  },
  {
   "cell_type": "code",
   "execution_count": null,
   "id": "4cd2f15d",
   "metadata": {},
   "outputs": [],
   "source": []
  },
  {
   "cell_type": "code",
   "execution_count": null,
   "id": "cc0c2531",
   "metadata": {},
   "outputs": [],
   "source": [
    "# Step-by-step evaluation\n",
    "accuracies = []\n",
    "\n",
    "NUM_RULES = 7\n",
    "for i in range(NUM_RULES):\n",
    "    rule = i + 1\n",
    "    data_path = '/data/dangnguyen/report_generation/mimic_data/finetune_llm/rewrite{}_cleaned.csv'.format(rule)\n",
    "    clean_rp = pd.read_csv(data_path).fillna('')\n",
    "    clean_rp = clean_rp.replace('REMOVED', '')\n",
    "    \n",
    "    gt_clean = list(clean_rp['cleaned'])\n",
    "    llm_clean = list(clean_rp['llm_rewritten'])\n",
    "    acc, _ = exact_match(gt_clean, llm_clean)\n",
    "    accuracies.append(acc)"
   ]
  },
  {
   "cell_type": "code",
   "execution_count": null,
   "id": "686f4323",
   "metadata": {},
   "outputs": [],
   "source": [
    "accuracies"
   ]
  },
  {
   "cell_type": "code",
   "execution_count": null,
   "id": "f41d3df1",
   "metadata": {},
   "outputs": [],
   "source": [
    "rules = ['rewrite' + str(i+1) for i in range(NUM_RULES)]\n",
    "rules"
   ]
  },
  {
   "cell_type": "code",
   "execution_count": null,
   "id": "5517ddb9",
   "metadata": {},
   "outputs": [],
   "source": [
    "res = pd.DataFrame({'rule': rules, 'em_acc': accuracies})\n",
    "res"
   ]
  },
  {
   "cell_type": "code",
   "execution_count": null,
   "id": "21bbd47c",
   "metadata": {},
   "outputs": [],
   "source": [
    "incre_acc = []\n",
    "\n",
    "NUM_RULES = 7\n",
    "for i in range(NUM_RULES):\n",
    "# for i in range(6, 7):\n",
    "    rule = i + 1\n",
    "    data_path = '/data/dangnguyen/report_generation/mimic_data/report_cleaning/rewrite{}_intermediate.csv'.format(rule)\n",
    "\n",
    "    clean_rp = pd.read_csv(data_path).fillna('')\n",
    "    clean_rp = clean_rp.replace('REMOVED', '')\n",
    "    \n",
    "#     llm_rewritten = clean_rp['llm_rewritten']\n",
    "#     clean_rp['llm_rewritten'] = ['' if 'REMOVED' in rp else rp for rp in llm_rewritten]\n",
    "    \n",
    "    gt_clean = list(clean_rp['cleaned'])\n",
    "    llm_clean = list(clean_rp['llm_rewritten'])\n",
    "    acc, _ = exact_match(gt_clean, llm_clean)\n",
    "    incre_acc.append(acc)"
   ]
  },
  {
   "cell_type": "code",
   "execution_count": null,
   "id": "59a368a8",
   "metadata": {},
   "outputs": [],
   "source": [
    "rules = ['rewrite' + str(i+1) for i in range(NUM_RULES)]\n",
    "res = pd.DataFrame({'rule': rules, 'incremental_acc': incre_acc})\n",
    "res"
   ]
  },
  {
   "cell_type": "code",
   "execution_count": null,
   "id": "3ca13933",
   "metadata": {},
   "outputs": [],
   "source": []
  },
  {
   "cell_type": "code",
   "execution_count": null,
   "id": "61818fa8",
   "metadata": {},
   "outputs": [],
   "source": [
    "# Checking length of longest sentence to estimate inference batch size\n",
    "imp_sen = pd.read_csv('/data/dangnguyen/report_generation/mimic_data/mimic_train_impressions_sentence.csv')\n",
    "imp_sen_uniq = imp_sen[['study_id','subject_id','report']].drop_duplicates()\n",
    "imp_sen_uniq"
   ]
  },
  {
   "cell_type": "code",
   "execution_count": null,
   "id": "77aa3485",
   "metadata": {},
   "outputs": [],
   "source": [
    "imp_sen_uniq['length'] = imp_sen_uniq['report'].apply(lambda x: len(x))\n",
    "imp_sen_uniq"
   ]
  },
  {
   "cell_type": "code",
   "execution_count": null,
   "id": "89eb24cb",
   "metadata": {},
   "outputs": [],
   "source": [
    "max_length = imp_sen_uniq['length'].max()\n",
    "longest_rp = imp_sen_uniq.loc[imp_sen_uniq['length'] > 500].report.item()\n",
    "max_length"
   ]
  },
  {
   "cell_type": "code",
   "execution_count": null,
   "id": "ee1787b5",
   "metadata": {},
   "outputs": [],
   "source": [
    "longest_rp"
   ]
  },
  {
   "cell_type": "code",
   "execution_count": null,
   "id": "79bedc4d",
   "metadata": {},
   "outputs": [],
   "source": [
    "longest_batch = [longest_rp for _ in range(64)]"
   ]
  },
  {
   "cell_type": "code",
   "execution_count": null,
   "id": "5862751a",
   "metadata": {},
   "outputs": [],
   "source": [
    "long_batch = pd.DataFrame(longest_batch, columns=['report'])\n",
    "long_batch.to_csv('./test_long_batch.csv', index=False)"
   ]
  },
  {
   "cell_type": "code",
   "execution_count": null,
   "id": "cef89ba3",
   "metadata": {},
   "outputs": [],
   "source": []
  },
  {
   "cell_type": "code",
   "execution_count": null,
   "id": "4db66a11",
   "metadata": {},
   "outputs": [],
   "source": [
    "imp_sen_test = imp_sen[:100]\n",
    "imp_sen_test['length'] = imp_sen_test['report'].apply(lambda x: len(x))\n",
    "max_length = imp_sen_test['length'].max()\n",
    "max_length"
   ]
  },
  {
   "cell_type": "code",
   "execution_count": null,
   "id": "abe4c9b2",
   "metadata": {},
   "outputs": [],
   "source": [
    "imp_sen_uniq.loc[imp_sen_uniq['length'] > 400]"
   ]
  },
  {
   "cell_type": "code",
   "execution_count": null,
   "id": "cea0bc52",
   "metadata": {},
   "outputs": [],
   "source": [
    "study_ids = imp_sen['study_id'].sample(20000)"
   ]
  },
  {
   "cell_type": "code",
   "execution_count": null,
   "id": "b3483d2c",
   "metadata": {},
   "outputs": [],
   "source": [
    "imp_sen = imp_sen.set_index('study_id')\n",
    "imp_sen_toclean = imp_sen.loc[study_ids]\n",
    "imp_sen = imp_sen.reset_index()\n",
    "\n",
    "imp_sen_toclean"
   ]
  },
  {
   "cell_type": "code",
   "execution_count": null,
   "id": "b2ac51db",
   "metadata": {},
   "outputs": [],
   "source": [
    "imp_sen_toclean = imp_sen_toclean.reset_index()"
   ]
  },
  {
   "cell_type": "code",
   "execution_count": null,
   "id": "c03580c3",
   "metadata": {},
   "outputs": [],
   "source": [
    "imp_sen_toclean_uniq = imp_sen_toclean[['study_id','sentence_id','report']].drop_duplicates()\n",
    "imp_sen_toclean_uniq"
   ]
  },
  {
   "cell_type": "code",
   "execution_count": null,
   "id": "71ed3f08",
   "metadata": {},
   "outputs": [],
   "source": [
    "imp_sen_toclean_uniq.to_csv('/data/dangnguyen/report_generation/mimic_data/report_cleaning/train_gt_imp_sen_72k_uniq.csv', index=False)"
   ]
  },
  {
   "cell_type": "code",
   "execution_count": null,
   "id": "53536e16",
   "metadata": {},
   "outputs": [],
   "source": []
  },
  {
   "cell_type": "code",
   "execution_count": null,
   "id": "b8769de8",
   "metadata": {},
   "outputs": [],
   "source": [
    "# Evaluating report-cleaning models in an unsupervised way\n",
    "\n",
    "# Types of unavailable info:\n",
    "# - Comparison to previous studies\n",
    "# - Previous medical procedures\n",
    "# - Communication\n",
    "# - Recommendations\n",
    "# - Image view\n",
    "\n",
    "# Cleaning models:\n",
    "# - No clean\n",
    "# - Flan-T5 (ours)\n",
    "# - GILBERT\n",
    "# - XrayGPT\n",
    "\n",
    "# Generation models:\n",
    "# - X-LLaMA\n",
    "# - CXR-ReDonE\n",
    "# - CXR-RePaiR\n",
    "# - MedCLIP\n",
    "# - XrayGPT zeroshot\n",
    "# - Retrieval\n",
    "\n",
    "def compute_unavailable_prop(reports):\n",
    "    type1_keywords = [\"compar\",\"interval\",\"new\",\"increas\",\"worse\",\"chang\",\n",
    "                      \"persist\",\"improv\",\"resol\",\"disappear\",\n",
    "                      \"prior\",\"stable\",\"previous\",\"again\",\"remain\",\"remov\",\n",
    "                      \"similar\",\"earlier\",\"decreas\",\"recurr\",\"redemonstrate\"]\n",
    "    type2_keywords = [\"status\"]\n",
    "    type3_keywords = [\"findings\",\"commun\",\"report\",\"convey\",\"relay\",\"enter\",\"submit\"]\n",
    "    type4_keywords = [\"recommend\",\"suggest\",\"should\"]\n",
    "    type5_keywords = [\" ap \",\" pa \",\" lateral \",\"view\"]\n",
    "    type_keywords = [type1_keywords, type2_keywords, type3_keywords, type4_keywords, type5_keywords]\n",
    "    \n",
    "    has_info_types = [] # a (5 x num_reports) boolean matrix indicating whether a report has an info type\n",
    "\n",
    "    for type_kws in type_keywords:\n",
    "        has_type = []\n",
    "        for report in reports:\n",
    "            report = report.lower()\n",
    "            rp_has_type = 0\n",
    "            for keyword in type_kws:\n",
    "                if keyword in report:\n",
    "                    rp_has_type = 1\n",
    "                    break\n",
    "            if rp_has_type:\n",
    "                has_type.append(1)\n",
    "            else:\n",
    "                has_type.append(0)\n",
    "        has_info_types.append(has_type)\n",
    "    has_info_np = np.array(has_info_types)\n",
    "    \n",
    "    # proportion of reports having each type\n",
    "    type_freqs = has_info_np.sum(axis=1)\n",
    "    type_props = type_freqs / has_info_np.shape[1]\n",
    "    return type_props"
   ]
  },
  {
   "cell_type": "code",
   "execution_count": null,
   "id": "629897a1",
   "metadata": {},
   "outputs": [],
   "source": [
    "column_names = ['Prior study','Prior procedures','Communication','Recommendations','View']\n",
    "train_names = ['Train','Flan-T5','GILBERT','XrayGPT']\n",
    "test_names = ['Test','CXR-RePaiR','CXR-ReDonE','XrayGPT']\n",
    "\n",
    "train_clean = ['/data/dangnguyen/report_generation/mimic_data/train_gt_imp.csv',\n",
    "               '/data/dangnguyen/report_generation/mimic_data/finetune_llm/finetune_gt_imp_all_dup.csv',\n",
    "               '/data/mimic_data/cxr-pro/mimic_train_impressions.csv',\n",
    "               '/data/mimic_data/train_gt_xraygpt_imp.csv']\n",
    "\n",
    "test_gen = ['/data/dangnguyen/report_generation/mimic_data/mimic_test_impressions.csv',\n",
    "            '/data/dangnguyen/report_generation/mimic_data/finetune_llm/baselines/test_cxr-repair_imp.csv',\n",
    "            '/data/dangnguyen/report_generation/mimic_data/finetune_llm/baselines/test_cxr-redone_imp.csv',\n",
    "            '/data/dangnguyen/report_generation/mimic_data/finetune_llm/baselines/test_xraygpt-zeroshot_imp.csv']"
   ]
  },
  {
   "cell_type": "code",
   "execution_count": null,
   "id": "c39bfc6e",
   "metadata": {},
   "outputs": [],
   "source": [
    "flan_t5 = pd.read_csv('/data/dangnguyen/report_generation/mimic_data/finetune_llm/finetune_gt_imp_all_dup.csv')\n",
    "flan_t5"
   ]
  },
  {
   "cell_type": "code",
   "execution_count": null,
   "id": "32396290",
   "metadata": {},
   "outputs": [],
   "source": [
    "# color_pal = ['brown','orangered','orange','gold']\n",
    "color_pal = ['chocolate','firebrick','darkorange','gold']"
   ]
  },
  {
   "cell_type": "code",
   "execution_count": null,
   "id": "40da71e2",
   "metadata": {},
   "outputs": [],
   "source": [
    "train_results = []\n",
    "for filename in train_clean:\n",
    "    df = pd.read_csv(filename)[['study_id','report']].drop_duplicates().dropna()\n",
    "    df_sample = df.loc[df['study_id'].isin(flan_t5['study_id'].tolist())]\n",
    "    print(len(df_sample))\n",
    "    props = compute_unavailable_prop(df_sample['report'].to_list())\n",
    "    train_results.append(props)"
   ]
  },
  {
   "cell_type": "code",
   "execution_count": null,
   "id": "039381a0",
   "metadata": {},
   "outputs": [],
   "source": [
    "df_res_train = pd.DataFrame(train_names, columns=['model'])\n",
    "df_props_train = pd.DataFrame(train_results, columns=column_names)\n",
    "df_res_train = pd.concat([df_res_train, df_props_train], axis=1)\n",
    "df_res_train"
   ]
  },
  {
   "cell_type": "code",
   "execution_count": null,
   "id": "d0a1cd8c",
   "metadata": {},
   "outputs": [],
   "source": [
    "df_res_train = df_res_train.set_index('model')\n",
    "df_res_train"
   ]
  },
  {
   "cell_type": "code",
   "execution_count": null,
   "id": "d8119024",
   "metadata": {},
   "outputs": [],
   "source": [
    "ax = df_res_train.T.plot(kind='bar', width=0.8, color=color_pal)\n",
    "ax.set_ylabel('Proportion of all reports', fontsize=10)\n",
    "ax.set_xticklabels(df_res_train.columns, rotation=20, fontsize=10)\n",
    "ax.figure.savefig('/data/dangnguyen/report_generation/plots/train_unavailable_prop.jpg', bbox_inches='tight')"
   ]
  },
  {
   "cell_type": "code",
   "execution_count": null,
   "id": "b137f752",
   "metadata": {},
   "outputs": [],
   "source": [
    "# test_results = []\n",
    "# for filename in test_gen:\n",
    "#     df = pd.read_csv(filename).fillna('')\n",
    "#     props = compute_unavailable_prop(df['report'].to_list())\n",
    "#     test_results.append(props)"
   ]
  },
  {
   "cell_type": "code",
   "execution_count": null,
   "id": "2c314c3d",
   "metadata": {},
   "outputs": [],
   "source": [
    "# df_res_test = pd.DataFrame(test_names, columns=['model'])\n",
    "# df_props_test = pd.DataFrame(test_results, columns=column_names)\n",
    "# df_res_test = pd.concat([df_res_test, df_props_test], axis=1)\n",
    "# df_res_test"
   ]
  },
  {
   "cell_type": "code",
   "execution_count": null,
   "id": "f2ca10bc",
   "metadata": {},
   "outputs": [],
   "source": [
    "# df_res_test = df_res_test.set_index('model')\n",
    "# df_res_test"
   ]
  },
  {
   "cell_type": "code",
   "execution_count": null,
   "id": "8da306de",
   "metadata": {},
   "outputs": [],
   "source": [
    "# ax = df_res_test.T.plot(kind='bar', width=0.8, color=color_pal)\n",
    "# ax.set_ylabel('Proportion of all reports', fontsize=10)\n",
    "# ax.set_xticklabels(df_res_test.columns, rotation=20, fontsize=10)\n",
    "# ax.figure.savefig('/data/dangnguyen/report_generation/plots/test_unavailable_prop.jpg', bbox_inches='tight')"
   ]
  },
  {
   "cell_type": "code",
   "execution_count": null,
   "id": "ea7dd2ea",
   "metadata": {},
   "outputs": [],
   "source": []
  },
  {
   "cell_type": "code",
   "execution_count": null,
   "id": "16f115da",
   "metadata": {},
   "outputs": [],
   "source": []
  },
  {
   "cell_type": "code",
   "execution_count": null,
   "id": "e8ca5c14",
   "metadata": {},
   "outputs": [],
   "source": []
  },
  {
   "cell_type": "code",
   "execution_count": null,
   "id": "2a540d04",
   "metadata": {},
   "outputs": [],
   "source": [
    "# Looking at X-LLaMA failure cases\n",
    "val_ind_imp = pd.read_csv('/data/dangnguyen/report_generation/mimic_data/test3_ind_imp_chexbert.csv')\n",
    "val_viz = pd.read_csv('/data/dangnguyen/report_generation/mimic_data/finetune_llm/test3_pred_viz.csv')\n",
    "val_gen = pd.read_csv('/data/dangnguyen/report_generation/mimic_data/finetune_llm/llama2_7b_clean/test3_gen_imp_epoch_3.csv')\n",
    "val_gen = pd.concat([val_gen, val_ind_imp[['indication']], val_viz[cxr_labels_2]], axis=1)\n",
    "val_gen"
   ]
  },
  {
   "cell_type": "code",
   "execution_count": null,
   "id": "d762ac13",
   "metadata": {},
   "outputs": [],
   "source": [
    "finetune_imp = pd.read_csv('/data/dangnguyen/report_generation/mimic_data/finetune_llm/finetune_gt_imp_18k.csv')\n",
    "finetune_imp"
   ]
  },
  {
   "cell_type": "code",
   "execution_count": null,
   "id": "26a06006",
   "metadata": {},
   "outputs": [],
   "source": [
    "ft_labels = label(CHEXBERT_PATH, '/data/dangnguyen/report_generation/mimic_data/finetune_llm/finetune_gt_imp_18k.csv')"
   ]
  },
  {
   "cell_type": "code",
   "execution_count": null,
   "id": "2b7d5bfc",
   "metadata": {},
   "outputs": [],
   "source": [
    "ft_labels = np.array(ft_labels).T[:, :-1]\n",
    "ft_labels.shape"
   ]
  },
  {
   "cell_type": "code",
   "execution_count": null,
   "id": "b6789d5d",
   "metadata": {},
   "outputs": [],
   "source": [
    "ft_labels_neg = ft_labels.copy()\n",
    "ft_labels_neg[(ft_labels_neg == 1) | (ft_labels_neg == 3)] = 0\n",
    "ft_labels_neg[ft_labels_neg == 2] = 1\n",
    "ft_neg_mentions = ft_labels_neg.sum(axis=0)\n",
    "ft_neg_mentions"
   ]
  },
  {
   "cell_type": "code",
   "execution_count": null,
   "id": "36e00ff8",
   "metadata": {},
   "outputs": [],
   "source": [
    "df_labels = pd.DataFrame(cxr_labels_2[:-1], columns=['label'])\n",
    "df_labels['ft_neg_total'] = ft_neg_mentions\n",
    "df_labels"
   ]
  },
  {
   "cell_type": "code",
   "execution_count": null,
   "id": "ef42f1a9",
   "metadata": {},
   "outputs": [],
   "source": [
    "_, _, _, y_gt_neg, y_gt, y_pred_neg, y_pred = compute_f1(val_gen[['original']].rename(columns={'original':'report'}), val_gen['report'])"
   ]
  },
  {
   "cell_type": "code",
   "execution_count": null,
   "id": "8efb9e7c",
   "metadata": {},
   "outputs": [],
   "source": [
    "total_neg_mentions = y_gt_neg.sum(axis=0)\n",
    "total_gen_neg = y_pred_neg.sum(axis=0)\n",
    "label_f1 = [f1_score(y_gt_neg[:, i], y_pred_neg[:, i], zero_division=0) for i in range(13)]\n",
    "label_precision = [precision_score(y_gt_neg[:, i], y_pred_neg[:, i], zero_division=0) for i in range(13)]\n",
    "label_recall = [recall_score(y_gt_neg[:, i], y_pred_neg[:, i], zero_division=0) for i in range(13)]"
   ]
  },
  {
   "cell_type": "code",
   "execution_count": null,
   "id": "ab0067a3",
   "metadata": {},
   "outputs": [],
   "source": [
    "df_labels['val_neg_total'] = total_neg_mentions\n",
    "df_labels['gen_neg_total'] = total_gen_neg\n",
    "df_labels['label_neg_f1'] = label_f1\n",
    "df_labels['label_precision'] = label_precision\n",
    "df_labels['label_recall'] = label_recall\n",
    "df_labels"
   ]
  },
  {
   "cell_type": "code",
   "execution_count": null,
   "id": "c95601a1",
   "metadata": {},
   "outputs": [],
   "source": [
    "label_id = 8\n",
    "tp_keys = (y_gt_neg[:, label_id] == 1) & (y_pred_neg[:, label_id] == 1)\n",
    "fn_keys = (y_gt_neg[:, label_id] == 1) & (y_pred_neg[:, label_id] == 0)\n",
    "fp_keys = (y_gt_neg[:, label_id] == 0) & (y_pred_neg[:, label_id] == 1)"
   ]
  },
  {
   "cell_type": "code",
   "execution_count": null,
   "id": "235a542c",
   "metadata": {},
   "outputs": [],
   "source": [
    "gen_tp = val_gen[tp_keys].fillna('').drop_duplicates().reset_index(drop=True)\n",
    "gen_fn = val_gen[fn_keys].fillna('').drop_duplicates().reset_index(drop=True)\n",
    "gen_fp = val_gen[fp_keys].fillna('').reset_index(drop=True)\n",
    "\n",
    "print('TP: {}. FN: {}. FP: {}'.format(len(gen_tp), len(gen_fn), len(gen_fp)))"
   ]
  },
  {
   "cell_type": "code",
   "execution_count": null,
   "id": "7e8066dd",
   "metadata": {},
   "outputs": [],
   "source": [
    "fn_id = 39\n",
    "gt_report = gen_fn.loc[fn_id]['original']\n",
    "indication = gen_fn.loc[fn_id]['indication']\n",
    "gen_report = gen_fn.loc[fn_id]['report']\n",
    "\n",
    "print('Indication: {}\\n\\nGT: {}\\n\\nGen: {}'.format(indication, gt_report, gen_report))"
   ]
  },
  {
   "cell_type": "code",
   "execution_count": null,
   "id": "3958e19a",
   "metadata": {},
   "outputs": [],
   "source": [
    "fp_id = 51\n",
    "gt_report = gen_fp.loc[fp_id]['original']\n",
    "indication = gen_fp.loc[fp_id]['indication']\n",
    "gen_report = gen_fp.loc[fp_id]['report']\n",
    "\n",
    "print('Indication: {}\\n\\nGT: {}\\n\\nGen: {}'.format(indication, gt_report, gen_report))"
   ]
  },
  {
   "cell_type": "code",
   "execution_count": null,
   "id": "179b31a3",
   "metadata": {},
   "outputs": [],
   "source": [
    "tp_id = 2\n",
    "\n",
    "gt_report = gen_tp.loc[tp_id]['original']\n",
    "indication = gen_tp.loc[tp_id]['indication']\n",
    "gen_report = gen_tp.loc[tp_id]['report']\n",
    "\n",
    "print('Indication: {}\\n\\nGT: {}\\n\\nGen: {}'.format(indication, gt_report, gen_report))"
   ]
  },
  {
   "cell_type": "code",
   "execution_count": null,
   "id": "9d85cc02",
   "metadata": {},
   "outputs": [],
   "source": []
  },
  {
   "cell_type": "code",
   "execution_count": null,
   "id": "6b5ee3d6",
   "metadata": {},
   "outputs": [],
   "source": []
  },
  {
   "cell_type": "code",
   "execution_count": null,
   "id": "205a0ec9",
   "metadata": {},
   "outputs": [],
   "source": []
  },
  {
   "cell_type": "code",
   "execution_count": null,
   "id": "ec09167a",
   "metadata": {},
   "outputs": [],
   "source": []
  },
  {
   "cell_type": "code",
   "execution_count": null,
   "id": "3450a01a",
   "metadata": {},
   "outputs": [],
   "source": []
  },
  {
   "cell_type": "code",
   "execution_count": null,
   "id": "2824b15b",
   "metadata": {},
   "outputs": [],
   "source": []
  },
  {
   "cell_type": "code",
   "execution_count": null,
   "id": "0c209500",
   "metadata": {},
   "outputs": [],
   "source": []
  }
 ],
 "metadata": {
  "kernelspec": {
   "display_name": "chenhao_llama",
   "language": "python",
   "name": "chenhao_llama"
  },
  "language_info": {
   "codemirror_mode": {
    "name": "ipython",
    "version": 3
   },
   "file_extension": ".py",
   "mimetype": "text/x-python",
   "name": "python",
   "nbconvert_exporter": "python",
   "pygments_lexer": "ipython3",
   "version": "3.9.13"
  }
 },
 "nbformat": 4,
 "nbformat_minor": 5
}
